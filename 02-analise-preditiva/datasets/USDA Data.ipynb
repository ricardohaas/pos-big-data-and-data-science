{
 "cells": [
  {
   "cell_type": "markdown",
   "metadata": {},
   "source": [
    "# Working with USDA data\n",
    "\n",
    "Dataset is located in https://courses.edx.org/c4x/MITx/15.071x_2/asset/USDA.csv"
   ]
  },
  {
   "cell_type": "code",
   "execution_count": 19,
   "metadata": {},
   "outputs": [],
   "source": [
    "import pandas as pd"
   ]
  },
  {
   "cell_type": "code",
   "execution_count": 20,
   "metadata": {},
   "outputs": [],
   "source": [
    "url = 'https://courses.edx.org/c4x/MITx/15.071x_2/asset/USDA.csv'\n",
    "df = pd.read_csv(url)"
   ]
  },
  {
   "cell_type": "code",
   "execution_count": 21,
   "metadata": {},
   "outputs": [
    {
     "name": "stdout",
     "output_type": "stream",
     "text": [
      "<class 'pandas.core.frame.DataFrame'>\n",
      "RangeIndex: 7058 entries, 0 to 7057\n",
      "Data columns (total 16 columns):\n",
      "ID              7058 non-null int64\n",
      "Description     7058 non-null object\n",
      "Calories        7057 non-null float64\n",
      "Protein         7057 non-null float64\n",
      "TotalFat        7057 non-null float64\n",
      "Carbohydrate    7057 non-null float64\n",
      "Sodium          6974 non-null float64\n",
      "SaturatedFat    6757 non-null float64\n",
      "Cholesterol     6770 non-null float64\n",
      "Sugar           5148 non-null float64\n",
      "Calcium         6922 non-null float64\n",
      "Iron            6935 non-null float64\n",
      "Potassium       6649 non-null float64\n",
      "VitaminC        6726 non-null float64\n",
      "VitaminE        4338 non-null float64\n",
      "VitaminD        4224 non-null float64\n",
      "dtypes: float64(14), int64(1), object(1)\n",
      "memory usage: 882.3+ KB\n"
     ]
    }
   ],
   "source": [
    "df.info()"
   ]
  },
  {
   "cell_type": "code",
   "execution_count": 22,
   "metadata": {},
   "outputs": [
    {
     "data": {
      "text/html": [
       "<div>\n",
       "<style scoped>\n",
       "    .dataframe tbody tr th:only-of-type {\n",
       "        vertical-align: middle;\n",
       "    }\n",
       "\n",
       "    .dataframe tbody tr th {\n",
       "        vertical-align: top;\n",
       "    }\n",
       "\n",
       "    .dataframe thead th {\n",
       "        text-align: right;\n",
       "    }\n",
       "</style>\n",
       "<table border=\"1\" class=\"dataframe\">\n",
       "  <thead>\n",
       "    <tr style=\"text-align: right;\">\n",
       "      <th></th>\n",
       "      <th>ID</th>\n",
       "      <th>Calories</th>\n",
       "      <th>Protein</th>\n",
       "      <th>TotalFat</th>\n",
       "      <th>Carbohydrate</th>\n",
       "      <th>Sodium</th>\n",
       "      <th>SaturatedFat</th>\n",
       "      <th>Cholesterol</th>\n",
       "      <th>Sugar</th>\n",
       "      <th>Calcium</th>\n",
       "      <th>Iron</th>\n",
       "      <th>Potassium</th>\n",
       "      <th>VitaminC</th>\n",
       "      <th>VitaminE</th>\n",
       "      <th>VitaminD</th>\n",
       "    </tr>\n",
       "  </thead>\n",
       "  <tbody>\n",
       "    <tr>\n",
       "      <th>count</th>\n",
       "      <td>7058.000000</td>\n",
       "      <td>7057.000000</td>\n",
       "      <td>7057.000000</td>\n",
       "      <td>7057.000000</td>\n",
       "      <td>7057.000000</td>\n",
       "      <td>6974.000000</td>\n",
       "      <td>6757.000000</td>\n",
       "      <td>6770.000000</td>\n",
       "      <td>5148.000000</td>\n",
       "      <td>6922.000000</td>\n",
       "      <td>6935.000000</td>\n",
       "      <td>6649.000000</td>\n",
       "      <td>6726.000000</td>\n",
       "      <td>4338.000000</td>\n",
       "      <td>4224.000000</td>\n",
       "    </tr>\n",
       "    <tr>\n",
       "      <th>mean</th>\n",
       "      <td>14259.821196</td>\n",
       "      <td>219.695338</td>\n",
       "      <td>11.710368</td>\n",
       "      <td>10.320614</td>\n",
       "      <td>20.697860</td>\n",
       "      <td>322.059220</td>\n",
       "      <td>3.452267</td>\n",
       "      <td>41.551994</td>\n",
       "      <td>8.256540</td>\n",
       "      <td>73.530627</td>\n",
       "      <td>2.828368</td>\n",
       "      <td>301.357949</td>\n",
       "      <td>9.435980</td>\n",
       "      <td>1.487462</td>\n",
       "      <td>0.576918</td>\n",
       "    </tr>\n",
       "    <tr>\n",
       "      <th>std</th>\n",
       "      <td>8577.179705</td>\n",
       "      <td>172.198755</td>\n",
       "      <td>10.919356</td>\n",
       "      <td>16.814191</td>\n",
       "      <td>27.630443</td>\n",
       "      <td>1045.416931</td>\n",
       "      <td>6.921267</td>\n",
       "      <td>122.963028</td>\n",
       "      <td>15.361509</td>\n",
       "      <td>222.445338</td>\n",
       "      <td>6.019878</td>\n",
       "      <td>415.638949</td>\n",
       "      <td>71.256536</td>\n",
       "      <td>5.386914</td>\n",
       "      <td>4.301147</td>\n",
       "    </tr>\n",
       "    <tr>\n",
       "      <th>min</th>\n",
       "      <td>1001.000000</td>\n",
       "      <td>0.000000</td>\n",
       "      <td>0.000000</td>\n",
       "      <td>0.000000</td>\n",
       "      <td>0.000000</td>\n",
       "      <td>0.000000</td>\n",
       "      <td>0.000000</td>\n",
       "      <td>0.000000</td>\n",
       "      <td>0.000000</td>\n",
       "      <td>0.000000</td>\n",
       "      <td>0.000000</td>\n",
       "      <td>0.000000</td>\n",
       "      <td>0.000000</td>\n",
       "      <td>0.000000</td>\n",
       "      <td>0.000000</td>\n",
       "    </tr>\n",
       "    <tr>\n",
       "      <th>25%</th>\n",
       "      <td>8387.250000</td>\n",
       "      <td>85.000000</td>\n",
       "      <td>2.290000</td>\n",
       "      <td>0.720000</td>\n",
       "      <td>0.000000</td>\n",
       "      <td>37.000000</td>\n",
       "      <td>0.172000</td>\n",
       "      <td>0.000000</td>\n",
       "      <td>0.000000</td>\n",
       "      <td>9.000000</td>\n",
       "      <td>0.520000</td>\n",
       "      <td>135.000000</td>\n",
       "      <td>0.000000</td>\n",
       "      <td>0.120000</td>\n",
       "      <td>0.000000</td>\n",
       "    </tr>\n",
       "    <tr>\n",
       "      <th>50%</th>\n",
       "      <td>13293.500000</td>\n",
       "      <td>181.000000</td>\n",
       "      <td>8.200000</td>\n",
       "      <td>4.370000</td>\n",
       "      <td>7.130000</td>\n",
       "      <td>79.000000</td>\n",
       "      <td>1.256000</td>\n",
       "      <td>3.000000</td>\n",
       "      <td>1.395000</td>\n",
       "      <td>19.000000</td>\n",
       "      <td>1.330000</td>\n",
       "      <td>250.000000</td>\n",
       "      <td>0.000000</td>\n",
       "      <td>0.270000</td>\n",
       "      <td>0.000000</td>\n",
       "    </tr>\n",
       "    <tr>\n",
       "      <th>75%</th>\n",
       "      <td>18336.750000</td>\n",
       "      <td>331.000000</td>\n",
       "      <td>20.430000</td>\n",
       "      <td>12.700000</td>\n",
       "      <td>28.170000</td>\n",
       "      <td>386.000000</td>\n",
       "      <td>4.028000</td>\n",
       "      <td>69.000000</td>\n",
       "      <td>7.875000</td>\n",
       "      <td>56.000000</td>\n",
       "      <td>2.620000</td>\n",
       "      <td>348.000000</td>\n",
       "      <td>3.100000</td>\n",
       "      <td>0.710000</td>\n",
       "      <td>0.100000</td>\n",
       "    </tr>\n",
       "    <tr>\n",
       "      <th>max</th>\n",
       "      <td>93600.000000</td>\n",
       "      <td>902.000000</td>\n",
       "      <td>88.320000</td>\n",
       "      <td>100.000000</td>\n",
       "      <td>100.000000</td>\n",
       "      <td>38758.000000</td>\n",
       "      <td>95.600000</td>\n",
       "      <td>3100.000000</td>\n",
       "      <td>99.800000</td>\n",
       "      <td>7364.000000</td>\n",
       "      <td>123.600000</td>\n",
       "      <td>16500.000000</td>\n",
       "      <td>2400.000000</td>\n",
       "      <td>149.400000</td>\n",
       "      <td>250.000000</td>\n",
       "    </tr>\n",
       "  </tbody>\n",
       "</table>\n",
       "</div>"
      ],
      "text/plain": [
       "                 ID     Calories      Protein     TotalFat  Carbohydrate  \\\n",
       "count   7058.000000  7057.000000  7057.000000  7057.000000   7057.000000   \n",
       "mean   14259.821196   219.695338    11.710368    10.320614     20.697860   \n",
       "std     8577.179705   172.198755    10.919356    16.814191     27.630443   \n",
       "min     1001.000000     0.000000     0.000000     0.000000      0.000000   \n",
       "25%     8387.250000    85.000000     2.290000     0.720000      0.000000   \n",
       "50%    13293.500000   181.000000     8.200000     4.370000      7.130000   \n",
       "75%    18336.750000   331.000000    20.430000    12.700000     28.170000   \n",
       "max    93600.000000   902.000000    88.320000   100.000000    100.000000   \n",
       "\n",
       "             Sodium  SaturatedFat  Cholesterol        Sugar      Calcium  \\\n",
       "count   6974.000000   6757.000000  6770.000000  5148.000000  6922.000000   \n",
       "mean     322.059220      3.452267    41.551994     8.256540    73.530627   \n",
       "std     1045.416931      6.921267   122.963028    15.361509   222.445338   \n",
       "min        0.000000      0.000000     0.000000     0.000000     0.000000   \n",
       "25%       37.000000      0.172000     0.000000     0.000000     9.000000   \n",
       "50%       79.000000      1.256000     3.000000     1.395000    19.000000   \n",
       "75%      386.000000      4.028000    69.000000     7.875000    56.000000   \n",
       "max    38758.000000     95.600000  3100.000000    99.800000  7364.000000   \n",
       "\n",
       "              Iron     Potassium     VitaminC     VitaminE     VitaminD  \n",
       "count  6935.000000   6649.000000  6726.000000  4338.000000  4224.000000  \n",
       "mean      2.828368    301.357949     9.435980     1.487462     0.576918  \n",
       "std       6.019878    415.638949    71.256536     5.386914     4.301147  \n",
       "min       0.000000      0.000000     0.000000     0.000000     0.000000  \n",
       "25%       0.520000    135.000000     0.000000     0.120000     0.000000  \n",
       "50%       1.330000    250.000000     0.000000     0.270000     0.000000  \n",
       "75%       2.620000    348.000000     3.100000     0.710000     0.100000  \n",
       "max     123.600000  16500.000000  2400.000000   149.400000   250.000000  "
      ]
     },
     "execution_count": 22,
     "metadata": {},
     "output_type": "execute_result"
    }
   ],
   "source": [
    "df.describe()"
   ]
  },
  {
   "cell_type": "code",
   "execution_count": 23,
   "metadata": {},
   "outputs": [
    {
     "data": {
      "text/html": [
       "<div>\n",
       "<style scoped>\n",
       "    .dataframe tbody tr th:only-of-type {\n",
       "        vertical-align: middle;\n",
       "    }\n",
       "\n",
       "    .dataframe tbody tr th {\n",
       "        vertical-align: top;\n",
       "    }\n",
       "\n",
       "    .dataframe thead th {\n",
       "        text-align: right;\n",
       "    }\n",
       "</style>\n",
       "<table border=\"1\" class=\"dataframe\">\n",
       "  <thead>\n",
       "    <tr style=\"text-align: right;\">\n",
       "      <th></th>\n",
       "      <th>ID</th>\n",
       "      <th>Description</th>\n",
       "      <th>Calories</th>\n",
       "      <th>Protein</th>\n",
       "      <th>TotalFat</th>\n",
       "      <th>Carbohydrate</th>\n",
       "      <th>Sodium</th>\n",
       "      <th>SaturatedFat</th>\n",
       "      <th>Cholesterol</th>\n",
       "      <th>Sugar</th>\n",
       "      <th>Calcium</th>\n",
       "      <th>Iron</th>\n",
       "      <th>Potassium</th>\n",
       "      <th>VitaminC</th>\n",
       "      <th>VitaminE</th>\n",
       "      <th>VitaminD</th>\n",
       "    </tr>\n",
       "  </thead>\n",
       "  <tbody>\n",
       "    <tr>\n",
       "      <th>0</th>\n",
       "      <td>1001</td>\n",
       "      <td>BUTTER,WITH SALT</td>\n",
       "      <td>717.0</td>\n",
       "      <td>0.85</td>\n",
       "      <td>81.11</td>\n",
       "      <td>0.06</td>\n",
       "      <td>714.0</td>\n",
       "      <td>51.368</td>\n",
       "      <td>215.0</td>\n",
       "      <td>0.06</td>\n",
       "      <td>24.0</td>\n",
       "      <td>0.02</td>\n",
       "      <td>24.0</td>\n",
       "      <td>0.0</td>\n",
       "      <td>2.32</td>\n",
       "      <td>1.5</td>\n",
       "    </tr>\n",
       "    <tr>\n",
       "      <th>1</th>\n",
       "      <td>1002</td>\n",
       "      <td>BUTTER,WHIPPED,WITH SALT</td>\n",
       "      <td>717.0</td>\n",
       "      <td>0.85</td>\n",
       "      <td>81.11</td>\n",
       "      <td>0.06</td>\n",
       "      <td>827.0</td>\n",
       "      <td>50.489</td>\n",
       "      <td>219.0</td>\n",
       "      <td>0.06</td>\n",
       "      <td>24.0</td>\n",
       "      <td>0.16</td>\n",
       "      <td>26.0</td>\n",
       "      <td>0.0</td>\n",
       "      <td>2.32</td>\n",
       "      <td>1.5</td>\n",
       "    </tr>\n",
       "    <tr>\n",
       "      <th>2</th>\n",
       "      <td>1003</td>\n",
       "      <td>BUTTER OIL,ANHYDROUS</td>\n",
       "      <td>876.0</td>\n",
       "      <td>0.28</td>\n",
       "      <td>99.48</td>\n",
       "      <td>0.00</td>\n",
       "      <td>2.0</td>\n",
       "      <td>61.924</td>\n",
       "      <td>256.0</td>\n",
       "      <td>0.00</td>\n",
       "      <td>4.0</td>\n",
       "      <td>0.00</td>\n",
       "      <td>5.0</td>\n",
       "      <td>0.0</td>\n",
       "      <td>2.80</td>\n",
       "      <td>1.8</td>\n",
       "    </tr>\n",
       "    <tr>\n",
       "      <th>3</th>\n",
       "      <td>1004</td>\n",
       "      <td>CHEESE,BLUE</td>\n",
       "      <td>353.0</td>\n",
       "      <td>21.40</td>\n",
       "      <td>28.74</td>\n",
       "      <td>2.34</td>\n",
       "      <td>1395.0</td>\n",
       "      <td>18.669</td>\n",
       "      <td>75.0</td>\n",
       "      <td>0.50</td>\n",
       "      <td>528.0</td>\n",
       "      <td>0.31</td>\n",
       "      <td>256.0</td>\n",
       "      <td>0.0</td>\n",
       "      <td>0.25</td>\n",
       "      <td>0.5</td>\n",
       "    </tr>\n",
       "    <tr>\n",
       "      <th>4</th>\n",
       "      <td>1005</td>\n",
       "      <td>CHEESE,BRICK</td>\n",
       "      <td>371.0</td>\n",
       "      <td>23.24</td>\n",
       "      <td>29.68</td>\n",
       "      <td>2.79</td>\n",
       "      <td>560.0</td>\n",
       "      <td>18.764</td>\n",
       "      <td>94.0</td>\n",
       "      <td>0.51</td>\n",
       "      <td>674.0</td>\n",
       "      <td>0.43</td>\n",
       "      <td>136.0</td>\n",
       "      <td>0.0</td>\n",
       "      <td>0.26</td>\n",
       "      <td>0.5</td>\n",
       "    </tr>\n",
       "  </tbody>\n",
       "</table>\n",
       "</div>"
      ],
      "text/plain": [
       "     ID               Description  Calories  Protein  TotalFat  Carbohydrate  \\\n",
       "0  1001          BUTTER,WITH SALT     717.0     0.85     81.11          0.06   \n",
       "1  1002  BUTTER,WHIPPED,WITH SALT     717.0     0.85     81.11          0.06   \n",
       "2  1003      BUTTER OIL,ANHYDROUS     876.0     0.28     99.48          0.00   \n",
       "3  1004               CHEESE,BLUE     353.0    21.40     28.74          2.34   \n",
       "4  1005              CHEESE,BRICK     371.0    23.24     29.68          2.79   \n",
       "\n",
       "   Sodium  SaturatedFat  Cholesterol  Sugar  Calcium  Iron  Potassium  \\\n",
       "0   714.0        51.368        215.0   0.06     24.0  0.02       24.0   \n",
       "1   827.0        50.489        219.0   0.06     24.0  0.16       26.0   \n",
       "2     2.0        61.924        256.0   0.00      4.0  0.00        5.0   \n",
       "3  1395.0        18.669         75.0   0.50    528.0  0.31      256.0   \n",
       "4   560.0        18.764         94.0   0.51    674.0  0.43      136.0   \n",
       "\n",
       "   VitaminC  VitaminE  VitaminD  \n",
       "0       0.0      2.32       1.5  \n",
       "1       0.0      2.32       1.5  \n",
       "2       0.0      2.80       1.8  \n",
       "3       0.0      0.25       0.5  \n",
       "4       0.0      0.26       0.5  "
      ]
     },
     "execution_count": 23,
     "metadata": {},
     "output_type": "execute_result"
    }
   ],
   "source": [
    "df.head()"
   ]
  },
  {
   "cell_type": "code",
   "execution_count": 24,
   "metadata": {},
   "outputs": [
    {
     "data": {
      "text/plain": [
       "<matplotlib.axes._subplots.AxesSubplot at 0x11eab86d8>"
      ]
     },
     "execution_count": 24,
     "metadata": {},
     "output_type": "execute_result"
    },
    {
     "data": {
      "image/png": "[encoded data removed]",
      "text/plain": [
       "<Figure size 432x288 with 1 Axes>"
      ]
     },
     "metadata": {
      "needs_background": "light"
     },
     "output_type": "display_data"
    }
   ],
   "source": [
    "# The maximum amount of sodium per day is 2,300 (OMS)\n",
    "df.Sodium.plot.hist(bins=200)"
   ]
  },
  {
   "cell_type": "code",
   "execution_count": 25,
   "metadata": {},
   "outputs": [
    {
     "data": {
      "text/plain": [
       "'SALT,TABLE'"
      ]
     },
     "execution_count": 25,
     "metadata": {},
     "output_type": "execute_result"
    }
   ],
   "source": [
    "max_id = df.Sodium.idxmax()\n",
    "df.iloc[max_id]['Description']"
   ]
  },
  {
   "cell_type": "code",
   "execution_count": 26,
   "metadata": {},
   "outputs": [
    {
     "data": {
      "text/html": [
       "<div>\n",
       "<style scoped>\n",
       "    .dataframe tbody tr th:only-of-type {\n",
       "        vertical-align: middle;\n",
       "    }\n",
       "\n",
       "    .dataframe tbody tr th {\n",
       "        vertical-align: top;\n",
       "    }\n",
       "\n",
       "    .dataframe thead th {\n",
       "        text-align: right;\n",
       "    }\n",
       "</style>\n",
       "<table border=\"1\" class=\"dataframe\">\n",
       "  <thead>\n",
       "    <tr style=\"text-align: right;\">\n",
       "      <th></th>\n",
       "      <th>Description</th>\n",
       "      <th>Sodium</th>\n",
       "    </tr>\n",
       "  </thead>\n",
       "  <tbody>\n",
       "    <tr>\n",
       "      <th>264</th>\n",
       "      <td>SALT,TABLE</td>\n",
       "      <td>38758.0</td>\n",
       "    </tr>\n",
       "    <tr>\n",
       "      <th>921</th>\n",
       "      <td>SOUP,BF BROTH OR BOUILLON,PDR,DRY</td>\n",
       "      <td>26000.0</td>\n",
       "    </tr>\n",
       "    <tr>\n",
       "      <th>922</th>\n",
       "      <td>SOUP,BEEF BROTH,CUBED,DRY</td>\n",
       "      <td>24000.0</td>\n",
       "    </tr>\n",
       "    <tr>\n",
       "      <th>924</th>\n",
       "      <td>SOUP,CHICK BROTH OR BOUILLON,DRY</td>\n",
       "      <td>23875.0</td>\n",
       "    </tr>\n",
       "    <tr>\n",
       "      <th>925</th>\n",
       "      <td>SOUP,CHICK BROTH CUBES,DRY</td>\n",
       "      <td>24000.0</td>\n",
       "    </tr>\n",
       "    <tr>\n",
       "      <th>937</th>\n",
       "      <td>GRAVY,AU JUS,DRY</td>\n",
       "      <td>11588.0</td>\n",
       "    </tr>\n",
       "    <tr>\n",
       "      <th>1302</th>\n",
       "      <td>ADOBO FRESCO</td>\n",
       "      <td>17152.0</td>\n",
       "    </tr>\n",
       "    <tr>\n",
       "      <th>5320</th>\n",
       "      <td>LEAVENING AGENTS,BAKING PDR,DOUBLE-ACTING,NA A...</td>\n",
       "      <td>10600.0</td>\n",
       "    </tr>\n",
       "    <tr>\n",
       "      <th>5323</th>\n",
       "      <td>LEAVENING AGENTS,BAKING SODA</td>\n",
       "      <td>27360.0</td>\n",
       "    </tr>\n",
       "    <tr>\n",
       "      <th>5697</th>\n",
       "      <td>DESSERTS,RENNIN,TABLETS,UNSWTND</td>\n",
       "      <td>26050.0</td>\n",
       "    </tr>\n",
       "  </tbody>\n",
       "</table>\n",
       "</div>"
      ],
      "text/plain": [
       "                                            Description   Sodium\n",
       "264                                          SALT,TABLE  38758.0\n",
       "921                   SOUP,BF BROTH OR BOUILLON,PDR,DRY  26000.0\n",
       "922                           SOUP,BEEF BROTH,CUBED,DRY  24000.0\n",
       "924                    SOUP,CHICK BROTH OR BOUILLON,DRY  23875.0\n",
       "925                          SOUP,CHICK BROTH CUBES,DRY  24000.0\n",
       "937                                    GRAVY,AU JUS,DRY  11588.0\n",
       "1302                                       ADOBO FRESCO  17152.0\n",
       "5320  LEAVENING AGENTS,BAKING PDR,DOUBLE-ACTING,NA A...  10600.0\n",
       "5323                       LEAVENING AGENTS,BAKING SODA  27360.0\n",
       "5697                    DESSERTS,RENNIN,TABLETS,UNSWTND  26050.0"
      ]
     },
     "execution_count": 26,
     "metadata": {},
     "output_type": "execute_result"
    }
   ],
   "source": [
    "# Check out what sources of sodium have more than 10000 mg\n",
    "df[df.Sodium >= 10000][['Description', 'Sodium']]"
   ]
  },
  {
   "cell_type": "code",
   "execution_count": 27,
   "metadata": {},
   "outputs": [
    {
     "data": {
      "text/html": [
       "<div>\n",
       "<style scoped>\n",
       "    .dataframe tbody tr th:only-of-type {\n",
       "        vertical-align: middle;\n",
       "    }\n",
       "\n",
       "    .dataframe tbody tr th {\n",
       "        vertical-align: top;\n",
       "    }\n",
       "\n",
       "    .dataframe thead th {\n",
       "        text-align: right;\n",
       "    }\n",
       "</style>\n",
       "<table border=\"1\" class=\"dataframe\">\n",
       "  <thead>\n",
       "    <tr style=\"text-align: right;\">\n",
       "      <th></th>\n",
       "      <th>ID</th>\n",
       "      <th>Description</th>\n",
       "      <th>Calories</th>\n",
       "      <th>Protein</th>\n",
       "      <th>TotalFat</th>\n",
       "      <th>Carbohydrate</th>\n",
       "      <th>Sodium</th>\n",
       "      <th>SaturatedFat</th>\n",
       "      <th>Cholesterol</th>\n",
       "      <th>Sugar</th>\n",
       "      <th>Calcium</th>\n",
       "      <th>Iron</th>\n",
       "      <th>Potassium</th>\n",
       "      <th>VitaminC</th>\n",
       "      <th>VitaminE</th>\n",
       "      <th>VitaminD</th>\n",
       "    </tr>\n",
       "  </thead>\n",
       "  <tbody>\n",
       "    <tr>\n",
       "      <th>4153</th>\n",
       "      <td>15012</td>\n",
       "      <td>CAVIAR</td>\n",
       "      <td>264.0</td>\n",
       "      <td>24.6</td>\n",
       "      <td>17.9</td>\n",
       "      <td>4.0</td>\n",
       "      <td>1500.0</td>\n",
       "      <td>4.06</td>\n",
       "      <td>588.0</td>\n",
       "      <td>0.0</td>\n",
       "      <td>275.0</td>\n",
       "      <td>11.88</td>\n",
       "      <td>181.0</td>\n",
       "      <td>0.0</td>\n",
       "      <td>1.89</td>\n",
       "      <td>2.9</td>\n",
       "    </tr>\n",
       "  </tbody>\n",
       "</table>\n",
       "</div>"
      ],
      "text/plain": [
       "         ID Description  Calories  Protein  TotalFat  Carbohydrate  Sodium  \\\n",
       "4153  15012      CAVIAR     264.0     24.6      17.9           4.0  1500.0   \n",
       "\n",
       "      SaturatedFat  Cholesterol  Sugar  Calcium   Iron  Potassium  VitaminC  \\\n",
       "4153          4.06        588.0    0.0    275.0  11.88      181.0       0.0   \n",
       "\n",
       "      VitaminE  VitaminD  \n",
       "4153      1.89       2.9  "
      ]
     },
     "execution_count": 27,
     "metadata": {},
     "output_type": "execute_result"
    }
   ],
   "source": [
    "# We know caviar has a lot of salt lets check out\n",
    "df[df.Description.str.contains('CAVIAR')]"
   ]
  },
  {
   "cell_type": "code",
   "execution_count": 28,
   "metadata": {},
   "outputs": [
    {
     "data": {
      "text/plain": [
       "4153    1500.0\n",
       "Name: Sodium, dtype: float64"
      ]
     },
     "execution_count": 28,
     "metadata": {},
     "output_type": "execute_result"
    }
   ],
   "source": [
    "# Check the amount of sodium in caviar\n",
    "df[df.Description.str.contains('CAVIAR')].Sodium"
   ]
  },
  {
   "cell_type": "code",
   "execution_count": 29,
   "metadata": {},
   "outputs": [
    {
     "data": {
      "text/plain": [
       "count     6974.000000\n",
       "mean       322.059220\n",
       "std       1045.416931\n",
       "min          0.000000\n",
       "25%         37.000000\n",
       "50%         79.000000\n",
       "75%        386.000000\n",
       "max      38758.000000\n",
       "Name: Sodium, dtype: float64"
      ]
     },
     "execution_count": 29,
     "metadata": {},
     "output_type": "execute_result"
    }
   ],
   "source": [
    "# Describe Sodium Colum\n",
    "df.Sodium.describe()"
   ]
  },
  {
   "cell_type": "markdown",
   "metadata": {},
   "source": [
    "# Data Visualization"
   ]
  },
  {
   "cell_type": "code",
   "execution_count": 30,
   "metadata": {},
   "outputs": [
    {
     "data": {
      "text/plain": [
       "Text(0.5, 1.0, 'Protein vs Fat')"
      ]
     },
     "execution_count": 30,
     "metadata": {},
     "output_type": "execute_result"
    },
    {
     "data": {
      "image/png": "[encoded data removed]",
      "text/plain": [
       "<Figure size 432x288 with 1 Axes>"
      ]
     },
     "metadata": {
      "needs_background": "light"
     },
     "output_type": "display_data"
    }
   ],
   "source": [
    "# Plot scatter total protein\n",
    "\n",
    "ax = df.plot.scatter('Protein', 'TotalFat', color='r', marker='^', alpha=0.5)\n",
    "ax.set_title('Protein vs Fat')"
   ]
  },
  {
   "cell_type": "code",
   "execution_count": 31,
   "metadata": {},
   "outputs": [
    {
     "data": {
      "text/plain": [
       "<matplotlib.axes._subplots.AxesSubplot at 0x11e9dd978>"
      ]
     },
     "execution_count": 31,
     "metadata": {},
     "output_type": "execute_result"
    },
    {
     "data": {
      "image/png": "[encoded data removed]",
      "text/plain": [
       "<Figure size 432x288 with 1 Axes>"
      ]
     },
     "metadata": {
      "needs_background": "light"
     },
     "output_type": "display_data"
    }
   ],
   "source": [
    "# Plot histogram of vitamin C\n",
    "df.VitaminC.plot.hist(color = 'c', title='Histogram Vitamin C')"
   ]
  },
  {
   "cell_type": "markdown",
   "metadata": {},
   "source": [
    "### *More than 6000 foods have less than 1 mg of vitamin C*\n",
    "\n",
    "### *Just one cell group is shown*"
   ]
  },
  {
   "cell_type": "code",
   "execution_count": 32,
   "metadata": {},
   "outputs": [
    {
     "data": {
      "text/plain": [
       "(0, 100)"
      ]
     },
     "execution_count": 32,
     "metadata": {},
     "output_type": "execute_result"
    },
    {
     "data": {
      "image/png": "[encoded data removed]",
      "text/plain": [
       "<Figure size 432x288 with 1 Axes>"
      ]
     },
     "metadata": {
      "needs_background": "light"
     },
     "output_type": "display_data"
    }
   ],
   "source": [
    "ax = df.VitaminC.plot.hist(color = 'c', title='Histogram Vitamin C')\n",
    "ax.set_xlim(0, 100)"
   ]
  },
  {
   "cell_type": "markdown",
   "metadata": {},
   "source": [
    "### Just one giant cell is shown"
   ]
  },
  {
   "cell_type": "code",
   "execution_count": 33,
   "metadata": {},
   "outputs": [
    {
     "data": {
      "text/plain": [
       "(0, 100)"
      ]
     },
     "execution_count": 33,
     "metadata": {},
     "output_type": "execute_result"
    },
    {
     "data": {
      "image/png": "[encoded data removed]",
      "text/plain": [
       "<Figure size 432x288 with 1 Axes>"
      ]
     },
     "metadata": {
      "needs_background": "light"
     },
     "output_type": "display_data"
    }
   ],
   "source": [
    "# Use bins to divide the cells into 100 cells\n",
    "ax = df.VitaminC.plot.hist(color = 'c', title='Histogram Vitamin C', bins = 100)\n",
    "ax.set_xlim(0, 100)"
   ]
  },
  {
   "cell_type": "markdown",
   "metadata": {},
   "source": [
    "### We still want to divide the cells into 100"
   ]
  },
  {
   "cell_type": "code",
   "execution_count": 34,
   "metadata": {},
   "outputs": [
    {
     "data": {
      "text/plain": [
       "(0, 100)"
      ]
     },
     "execution_count": 34,
     "metadata": {},
     "output_type": "execute_result"
    },
    {
     "data": {
      "image/png": "[encoded data removed]",
      "text/plain": [
       "<Figure size 432x288 with 1 Axes>"
      ]
     },
     "metadata": {
      "needs_background": "light"
     },
     "output_type": "display_data"
    }
   ],
   "source": [
    "# Think about the original dataset length (0, 2000)\n",
    "ax = df.VitaminC.plot.hist(color = 'c', title='Histogram Vitamin C', bins = 2000)\n",
    "ax.set_xlim(0, 100)"
   ]
  },
  {
   "cell_type": "markdown",
   "metadata": {},
   "source": [
    "# Boxplots"
   ]
  },
  {
   "cell_type": "code",
   "execution_count": 35,
   "metadata": {},
   "outputs": [
    {
     "data": {
      "text/plain": [
       "Text(0, 0.5, 'Sugar (g)')"
      ]
     },
     "execution_count": 35,
     "metadata": {},
     "output_type": "execute_result"
    },
    {
     "data": {
      "image/png": "[encoded data removed]",
      "text/plain": [
       "<Figure size 432x288 with 1 Axes>"
      ]
     },
     "metadata": {
      "needs_background": "light"
     },
     "output_type": "display_data"
    }
   ],
   "source": [
    "ax = df.Sugar.plot.box(title='Boxplot sugar levels')\n",
    "ax.set_ylabel('Sugar (g)')"
   ]
  },
  {
   "cell_type": "markdown",
   "metadata": {},
   "source": [
    "### Lets suppose we want to evaluate the foods with sodium concentration above mean\n",
    "\n",
    "To do so we going to create a new column called high sodium and set value 0 if it not higher than mean and 1 if it is."
   ]
  },
  {
   "cell_type": "code",
   "execution_count": 36,
   "metadata": {},
   "outputs": [],
   "source": [
    "df.loc[df.Sodium > df.Sodium.mean(), 'HighSodium'] = 1\n",
    "df.loc[df.Sodium <= df.Sodium.mean(), 'HighSodium'] = 0"
   ]
  },
  {
   "cell_type": "markdown",
   "metadata": {},
   "source": [
    "### Lets do the same to totalFat, Protein, and Carbohydrates"
   ]
  },
  {
   "cell_type": "code",
   "execution_count": 37,
   "metadata": {},
   "outputs": [],
   "source": [
    "# Total Fat\n",
    "df.loc[df.TotalFat > df.TotalFat.mean(), 'HighFat'] = 1\n",
    "df.loc[df.TotalFat <= df.TotalFat.mean(), 'HighFat'] = 0\n",
    "\n",
    "# Protein \n",
    "df.loc[df.Protein > df.Protein.mean(), 'HighProtein'] = 1\n",
    "df.loc[df.Protein <= df.Protein.mean(), 'HighProtein'] = 0\n",
    "\n",
    "# Carbohydrates\n",
    "df.loc[df.Carbohydrate > df.Carbohydrate.mean(), 'HighCarbohydrate'] = 1\n",
    "df.loc[df.Carbohydrate <= df.Carbohydrate.mean(), 'HighCarbohydrate'] = 0"
   ]
  },
  {
   "cell_type": "markdown",
   "metadata": {},
   "source": [
    "### Count high sodium food"
   ]
  },
  {
   "cell_type": "code",
   "execution_count": 38,
   "metadata": {},
   "outputs": [
    {
     "data": {
      "text/plain": [
       "4884"
      ]
     },
     "execution_count": 38,
     "metadata": {},
     "output_type": "execute_result"
    }
   ],
   "source": [
    "df[df.HighSodium == 0].HighSodium.count()"
   ]
  },
  {
   "cell_type": "code",
   "execution_count": 39,
   "metadata": {},
   "outputs": [
    {
     "data": {
      "text/plain": [
       "2090"
      ]
     },
     "execution_count": 39,
     "metadata": {},
     "output_type": "execute_result"
    }
   ],
   "source": [
    "df[df.HighSodium == 1].HighSodium.count()"
   ]
  },
  {
   "cell_type": "markdown",
   "metadata": {},
   "source": [
    "### We simply could use the function values_count()"
   ]
  },
  {
   "cell_type": "code",
   "execution_count": 40,
   "metadata": {},
   "outputs": [
    {
     "data": {
      "text/plain": [
       "0.0    4884\n",
       "1.0    2090\n",
       "Name: HighSodium, dtype: int64"
      ]
     },
     "execution_count": 40,
     "metadata": {},
     "output_type": "execute_result"
    }
   ],
   "source": [
    "df['HighSodium'].value_counts()"
   ]
  },
  {
   "cell_type": "code",
   "execution_count": 41,
   "metadata": {},
   "outputs": [
    {
     "data": {
      "text/plain": [
       "0.0    4973\n",
       "1.0    2084\n",
       "Name: HighFat, dtype: int64"
      ]
     },
     "execution_count": 41,
     "metadata": {},
     "output_type": "execute_result"
    }
   ],
   "source": [
    "df['HighFat'].value_counts()"
   ]
  },
  {
   "cell_type": "code",
   "execution_count": 42,
   "metadata": {},
   "outputs": [
    {
     "data": {
      "text/html": [
       "<div>\n",
       "<style scoped>\n",
       "    .dataframe tbody tr th:only-of-type {\n",
       "        vertical-align: middle;\n",
       "    }\n",
       "\n",
       "    .dataframe tbody tr th {\n",
       "        vertical-align: top;\n",
       "    }\n",
       "\n",
       "    .dataframe thead th {\n",
       "        text-align: right;\n",
       "    }\n",
       "</style>\n",
       "<table border=\"1\" class=\"dataframe\">\n",
       "  <thead>\n",
       "    <tr style=\"text-align: right;\">\n",
       "      <th>HighFat</th>\n",
       "      <th>0.0</th>\n",
       "      <th>1.0</th>\n",
       "    </tr>\n",
       "    <tr>\n",
       "      <th>HighSodium</th>\n",
       "      <th></th>\n",
       "      <th></th>\n",
       "    </tr>\n",
       "  </thead>\n",
       "  <tbody>\n",
       "    <tr>\n",
       "      <th>0.0</th>\n",
       "      <td>3529</td>\n",
       "      <td>1355</td>\n",
       "    </tr>\n",
       "    <tr>\n",
       "      <th>1.0</th>\n",
       "      <td>1378</td>\n",
       "      <td>712</td>\n",
       "    </tr>\n",
       "  </tbody>\n",
       "</table>\n",
       "</div>"
      ],
      "text/plain": [
       "HighFat      0.0   1.0\n",
       "HighSodium            \n",
       "0.0         3529  1355\n",
       "1.0         1378   712"
      ]
     },
     "execution_count": 42,
     "metadata": {},
     "output_type": "execute_result"
    }
   ],
   "source": [
    "pd.crosstab(df['HighSodium'], df['HighFat'])"
   ]
  },
  {
   "cell_type": "code",
   "execution_count": 43,
   "metadata": {},
   "outputs": [
    {
     "data": {
      "text/html": [
       "<div>\n",
       "<style scoped>\n",
       "    .dataframe tbody tr th:only-of-type {\n",
       "        vertical-align: middle;\n",
       "    }\n",
       "\n",
       "    .dataframe tbody tr th {\n",
       "        vertical-align: top;\n",
       "    }\n",
       "\n",
       "    .dataframe thead th {\n",
       "        text-align: right;\n",
       "    }\n",
       "</style>\n",
       "<table border=\"1\" class=\"dataframe\">\n",
       "  <thead>\n",
       "    <tr style=\"text-align: right;\">\n",
       "      <th>HighFat</th>\n",
       "      <th>0.0</th>\n",
       "      <th>1.0</th>\n",
       "      <th>All</th>\n",
       "    </tr>\n",
       "    <tr>\n",
       "      <th>HighSodium</th>\n",
       "      <th></th>\n",
       "      <th></th>\n",
       "      <th></th>\n",
       "    </tr>\n",
       "  </thead>\n",
       "  <tbody>\n",
       "    <tr>\n",
       "      <th>0.0</th>\n",
       "      <td>3529</td>\n",
       "      <td>1355</td>\n",
       "      <td>4884</td>\n",
       "    </tr>\n",
       "    <tr>\n",
       "      <th>1.0</th>\n",
       "      <td>1378</td>\n",
       "      <td>712</td>\n",
       "      <td>2090</td>\n",
       "    </tr>\n",
       "    <tr>\n",
       "      <th>All</th>\n",
       "      <td>4907</td>\n",
       "      <td>2067</td>\n",
       "      <td>6974</td>\n",
       "    </tr>\n",
       "  </tbody>\n",
       "</table>\n",
       "</div>"
      ],
      "text/plain": [
       "HighFat      0.0   1.0   All\n",
       "HighSodium                  \n",
       "0.0         3529  1355  4884\n",
       "1.0         1378   712  2090\n",
       "All         4907  2067  6974"
      ]
     },
     "execution_count": 43,
     "metadata": {},
     "output_type": "execute_result"
    }
   ],
   "source": [
    "# Show margins???\n",
    "pd.crosstab(df['HighSodium'], df['HighFat'], margins=True)"
   ]
  },
  {
   "cell_type": "markdown",
   "metadata": {},
   "source": [
    "# Group data by Protein data and Iron concentration"
   ]
  },
  {
   "cell_type": "code",
   "execution_count": 44,
   "metadata": {},
   "outputs": [
    {
     "data": {
      "text/html": [
       "<div>\n",
       "<style scoped>\n",
       "    .dataframe tbody tr th:only-of-type {\n",
       "        vertical-align: middle;\n",
       "    }\n",
       "\n",
       "    .dataframe tbody tr th {\n",
       "        vertical-align: top;\n",
       "    }\n",
       "\n",
       "    .dataframe thead th {\n",
       "        text-align: right;\n",
       "    }\n",
       "</style>\n",
       "<table border=\"1\" class=\"dataframe\">\n",
       "  <thead>\n",
       "    <tr style=\"text-align: right;\">\n",
       "      <th></th>\n",
       "      <th>ID</th>\n",
       "      <th>Calories</th>\n",
       "      <th>Protein</th>\n",
       "      <th>TotalFat</th>\n",
       "      <th>Carbohydrate</th>\n",
       "      <th>Sodium</th>\n",
       "      <th>SaturatedFat</th>\n",
       "      <th>Cholesterol</th>\n",
       "      <th>Sugar</th>\n",
       "      <th>Calcium</th>\n",
       "      <th>Iron</th>\n",
       "      <th>Potassium</th>\n",
       "      <th>VitaminC</th>\n",
       "      <th>VitaminE</th>\n",
       "      <th>VitaminD</th>\n",
       "      <th>HighSodium</th>\n",
       "      <th>HighFat</th>\n",
       "      <th>HighCarbohydrate</th>\n",
       "    </tr>\n",
       "    <tr>\n",
       "      <th>HighProtein</th>\n",
       "      <th></th>\n",
       "      <th></th>\n",
       "      <th></th>\n",
       "      <th></th>\n",
       "      <th></th>\n",
       "      <th></th>\n",
       "      <th></th>\n",
       "      <th></th>\n",
       "      <th></th>\n",
       "      <th></th>\n",
       "      <th></th>\n",
       "      <th></th>\n",
       "      <th></th>\n",
       "      <th></th>\n",
       "      <th></th>\n",
       "      <th></th>\n",
       "      <th></th>\n",
       "      <th></th>\n",
       "    </tr>\n",
       "  </thead>\n",
       "  <tbody>\n",
       "    <tr>\n",
       "      <th>0.0</th>\n",
       "      <td>13895.622055</td>\n",
       "      <td>209.567161</td>\n",
       "      <td>3.798735</td>\n",
       "      <td>8.909876</td>\n",
       "      <td>29.702975</td>\n",
       "      <td>321.908555</td>\n",
       "      <td>3.007783</td>\n",
       "      <td>11.054325</td>\n",
       "      <td>12.443460</td>\n",
       "      <td>73.087794</td>\n",
       "      <td>2.558945</td>\n",
       "      <td>237.061686</td>\n",
       "      <td>13.085919</td>\n",
       "      <td>1.695245</td>\n",
       "      <td>0.443139</td>\n",
       "      <td>0.338004</td>\n",
       "      <td>0.196017</td>\n",
       "      <td>0.431868</td>\n",
       "    </tr>\n",
       "    <tr>\n",
       "      <th>1.0</th>\n",
       "      <td>14766.511224</td>\n",
       "      <td>233.878231</td>\n",
       "      <td>22.789347</td>\n",
       "      <td>12.296126</td>\n",
       "      <td>8.087636</td>\n",
       "      <td>322.270131</td>\n",
       "      <td>4.049899</td>\n",
       "      <td>82.595981</td>\n",
       "      <td>1.898322</td>\n",
       "      <td>74.136115</td>\n",
       "      <td>3.197294</td>\n",
       "      <td>385.090028</td>\n",
       "      <td>4.380426</td>\n",
       "      <td>1.202428</td>\n",
       "      <td>0.823922</td>\n",
       "      <td>0.246043</td>\n",
       "      <td>0.434354</td>\n",
       "      <td>0.129932</td>\n",
       "    </tr>\n",
       "  </tbody>\n",
       "</table>\n",
       "</div>"
      ],
      "text/plain": [
       "                       ID    Calories    Protein   TotalFat  Carbohydrate  \\\n",
       "HighProtein                                                                 \n",
       "0.0          13895.622055  209.567161   3.798735   8.909876     29.702975   \n",
       "1.0          14766.511224  233.878231  22.789347  12.296126      8.087636   \n",
       "\n",
       "                 Sodium  SaturatedFat  Cholesterol      Sugar    Calcium  \\\n",
       "HighProtein                                                                \n",
       "0.0          321.908555      3.007783    11.054325  12.443460  73.087794   \n",
       "1.0          322.270131      4.049899    82.595981   1.898322  74.136115   \n",
       "\n",
       "                 Iron   Potassium   VitaminC  VitaminE  VitaminD  HighSodium  \\\n",
       "HighProtein                                                                    \n",
       "0.0          2.558945  237.061686  13.085919  1.695245  0.443139    0.338004   \n",
       "1.0          3.197294  385.090028   4.380426  1.202428  0.823922    0.246043   \n",
       "\n",
       "              HighFat  HighCarbohydrate  \n",
       "HighProtein                              \n",
       "0.0          0.196017          0.431868  \n",
       "1.0          0.434354          0.129932  "
      ]
     },
     "execution_count": 44,
     "metadata": {},
     "output_type": "execute_result"
    }
   ],
   "source": [
    "# Group by protein\n",
    "grouped = df.groupby('HighProtein')\n",
    "grouped.mean()"
   ]
  },
  {
   "cell_type": "code",
   "execution_count": 45,
   "metadata": {},
   "outputs": [
    {
     "data": {
      "text/plain": [
       "HighProtein\n",
       "0.0    2.558945\n",
       "1.0    3.197294\n",
       "Name: Iron, dtype: float64"
      ]
     },
     "execution_count": 45,
     "metadata": {},
     "output_type": "execute_result"
    }
   ],
   "source": [
    "# Check Iron means\n",
    "grouped.mean().Iron"
   ]
  },
  {
   "cell_type": "markdown",
   "metadata": {},
   "source": [
    "### Do the same to VitaminC and HighCarbs"
   ]
  },
  {
   "cell_type": "code",
   "execution_count": 46,
   "metadata": {},
   "outputs": [
    {
     "data": {
      "text/plain": [
       "HighCarbohydrate\n",
       "0.0    1677.6\n",
       "1.0    2400.0\n",
       "Name: VitaminC, dtype: float64"
      ]
     },
     "execution_count": 46,
     "metadata": {},
     "output_type": "execute_result"
    }
   ],
   "source": [
    "# Group by protein\n",
    "grouped = df.groupby('HighCarbohydrate')\n",
    "grouped.max().VitaminC"
   ]
  },
  {
   "cell_type": "markdown",
   "metadata": {},
   "source": [
    "#### Is it true that foos that are high in carbs have generally high vitamin C content?"
   ]
  },
  {
   "cell_type": "code",
   "execution_count": 47,
   "metadata": {},
   "outputs": [
    {
     "data": {
      "text/html": [
       "<div>\n",
       "<style scoped>\n",
       "    .dataframe tbody tr th:only-of-type {\n",
       "        vertical-align: middle;\n",
       "    }\n",
       "\n",
       "    .dataframe tbody tr th {\n",
       "        vertical-align: top;\n",
       "    }\n",
       "\n",
       "    .dataframe thead th {\n",
       "        text-align: right;\n",
       "    }\n",
       "</style>\n",
       "<table border=\"1\" class=\"dataframe\">\n",
       "  <thead>\n",
       "    <tr style=\"text-align: right;\">\n",
       "      <th></th>\n",
       "      <th>count</th>\n",
       "      <th>mean</th>\n",
       "      <th>std</th>\n",
       "      <th>min</th>\n",
       "      <th>25%</th>\n",
       "      <th>50%</th>\n",
       "      <th>75%</th>\n",
       "      <th>max</th>\n",
       "    </tr>\n",
       "    <tr>\n",
       "      <th>HighCarbohydrate</th>\n",
       "      <th></th>\n",
       "      <th></th>\n",
       "      <th></th>\n",
       "      <th></th>\n",
       "      <th></th>\n",
       "      <th></th>\n",
       "      <th></th>\n",
       "      <th></th>\n",
       "    </tr>\n",
       "  </thead>\n",
       "  <tbody>\n",
       "    <tr>\n",
       "      <th>0.0</th>\n",
       "      <td>4649.0</td>\n",
       "      <td>6.364035</td>\n",
       "      <td>37.569775</td>\n",
       "      <td>0.0</td>\n",
       "      <td>0.0</td>\n",
       "      <td>0.0</td>\n",
       "      <td>2.8</td>\n",
       "      <td>1677.6</td>\n",
       "    </tr>\n",
       "    <tr>\n",
       "      <th>1.0</th>\n",
       "      <td>2077.0</td>\n",
       "      <td>16.311988</td>\n",
       "      <td>114.975660</td>\n",
       "      <td>0.0</td>\n",
       "      <td>0.0</td>\n",
       "      <td>0.2</td>\n",
       "      <td>4.5</td>\n",
       "      <td>2400.0</td>\n",
       "    </tr>\n",
       "  </tbody>\n",
       "</table>\n",
       "</div>"
      ],
      "text/plain": [
       "                   count       mean         std  min  25%  50%  75%     max\n",
       "HighCarbohydrate                                                           \n",
       "0.0               4649.0   6.364035   37.569775  0.0  0.0  0.0  2.8  1677.6\n",
       "1.0               2077.0  16.311988  114.975660  0.0  0.0  0.2  4.5  2400.0"
      ]
     },
     "execution_count": 47,
     "metadata": {},
     "output_type": "execute_result"
    }
   ],
   "source": [
    "grouped = df.groupby('HighCarbohydrate')\n",
    "grouped.describe().VitaminC"
   ]
  },
  {
   "cell_type": "markdown",
   "metadata": {},
   "source": [
    "#### Indeed foods with high carbs in general have more vitaminC than low carbs food"
   ]
  },
  {
   "cell_type": "code",
   "execution_count": null,
   "metadata": {},
   "outputs": [],
   "source": []
  }
 ],
 "metadata": {
  "kernelspec": {
   "display_name": "Python 3",
   "language": "python",
   "name": "python3"
  },
  "language_info": {
   "codemirror_mode": {
    "name": "ipython",
    "version": 3
   },
   "file_extension": ".py",
   "mimetype": "text/x-python",
   "name": "python",
   "nbconvert_exporter": "python",
   "pygments_lexer": "ipython3",
   "version": "3.7.3"
  }
 },
 "nbformat": 4,
 "nbformat_minor": 2
}
